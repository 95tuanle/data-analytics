{
 "cells": [
  {
   "cell_type": "markdown",
   "metadata": {
    "collapsed": true
   },
   "source": [
    "# Assignment 1\n",
    "## Introduction to Data Analytics\n",
    "### Humber College - February 2022\n",
    "#### Name: Nguyen Anh Tuan Le\n",
    "#### Student ID: N014141295"
   ]
  },
  {
   "cell_type": "markdown",
   "metadata": {},
   "source": [
    "1. Import necessary libraries"
   ]
  },
  {
   "cell_type": "code",
   "execution_count": 31,
   "metadata": {},
   "outputs": [],
   "source": [
    "import numpy as np\n",
    "import pandas as pd\n",
    "\n",
    "import seaborn as sns\n",
    "import matplotlib.pyplot as plt\n",
    "%matplotlib inline"
   ]
  },
  {
   "cell_type": "markdown",
   "metadata": {},
   "source": [
    "2. Print the info() of the dataframe and describe your observations."
   ]
  },
  {
   "cell_type": "code",
   "execution_count": 32,
   "metadata": {},
   "outputs": [
    {
     "name": "stdout",
     "output_type": "stream",
     "text": [
      "<class 'pandas.core.frame.DataFrame'>\n",
      "RangeIndex: 1143 entries, 0 to 1142\n",
      "Data columns (total 13 columns):\n",
      " #   Column                Non-Null Count  Dtype  \n",
      "---  ------                --------------  -----  \n",
      " 0   fixed acidity         1142 non-null   float64\n",
      " 1   volatile acidity      1139 non-null   float64\n",
      " 2   citric acid           1140 non-null   float64\n",
      " 3   residual sugar        1143 non-null   float64\n",
      " 4   chlorides             1143 non-null   float64\n",
      " 5   free sulfur dioxide   1143 non-null   float64\n",
      " 6   total sulfur dioxide  1143 non-null   float64\n",
      " 7   density               1141 non-null   float64\n",
      " 8   pH                    1143 non-null   float64\n",
      " 9   sulphates             1143 non-null   float64\n",
      " 10  alcohol               1143 non-null   float64\n",
      " 11  quality               1141 non-null   float64\n",
      " 12  Id                    1143 non-null   int64  \n",
      "dtypes: float64(12), int64(1)\n",
      "memory usage: 116.2 KB\n"
     ]
    }
   ],
   "source": [
    "wineQT = pd.read_csv('WineQT.csv')\n",
    "wineQT.info()"
   ]
  },
  {
   "cell_type": "markdown",
   "metadata": {},
   "source": [
    "**A table with 13 columns (12 columns with float64 as the data type, 1 column with int64 as the data type and 5 of them have null values) and 1143 rows describes about wines.**"
   ]
  },
  {
   "cell_type": "markdown",
   "metadata": {},
   "source": [
    "3. What is the data type of the density column?"
   ]
  },
  {
   "cell_type": "code",
   "execution_count": 33,
   "metadata": {},
   "outputs": [
    {
     "data": {
      "text/plain": "dtype('float64')"
     },
     "execution_count": 33,
     "metadata": {},
     "output_type": "execute_result"
    }
   ],
   "source": [
    "np.dtype(wineQT.density)"
   ]
  },
  {
   "cell_type": "markdown",
   "metadata": {},
   "source": [
    "4. Check how many missing values are in the dataset per column? Fill missing values using an appropriate technique. Provide the codes and a description why you have chosen that specific method, per column."
   ]
  },
  {
   "cell_type": "code",
   "execution_count": 34,
   "metadata": {},
   "outputs": [
    {
     "data": {
      "text/plain": "fixed acidity           1\nvolatile acidity        4\ncitric acid             3\nresidual sugar          0\nchlorides               0\nfree sulfur dioxide     0\ntotal sulfur dioxide    0\ndensity                 2\npH                      0\nsulphates               0\nalcohol                 0\nquality                 2\nId                      0\ndtype: int64"
     },
     "execution_count": 34,
     "metadata": {},
     "output_type": "execute_result"
    }
   ],
   "source": [
    "# show missing values of each column (isnull detects missing values, sum turns the total of null values per column)\n",
    "wineQT.isnull().sum()"
   ]
  },
  {
   "cell_type": "code",
   "execution_count": 35,
   "metadata": {},
   "outputs": [
    {
     "data": {
      "text/plain": "fixed acidity           0\nvolatile acidity        0\ncitric acid             0\nresidual sugar          0\nchlorides               0\nfree sulfur dioxide     0\ntotal sulfur dioxide    0\ndensity                 0\npH                      0\nsulphates               0\nalcohol                 0\nquality                 0\nId                      0\ndtype: int64"
     },
     "execution_count": 35,
     "metadata": {},
     "output_type": "execute_result"
    }
   ],
   "source": [
    "# replace the null values with the average of its column (fillna replaces, mean finds average (implace modifies straight to the dataframe)\n",
    "wineQT.fillna(wineQT.mean(), inplace=True)\n",
    "# check the data frame again for null values\n",
    "wineQT.isnull().sum()"
   ]
  },
  {
   "cell_type": "markdown",
   "metadata": {},
   "source": [
    "5. Create a simple plot of the dataframe indicating the alcohol value per wine. Provide the plot and code."
   ]
  },
  {
   "cell_type": "code",
   "execution_count": 36,
   "metadata": {},
   "outputs": [
    {
     "data": {
      "text/plain": "[<matplotlib.lines.Line2D at 0x1629556a0>]"
     },
     "execution_count": 36,
     "metadata": {},
     "output_type": "execute_result"
    },
    {
     "data": {
      "text/plain": "<Figure size 432x288 with 1 Axes>",
      "image/png": "[encoded data removed]"
     },
     "metadata": {
      "needs_background": "light"
     },
     "output_type": "display_data"
    }
   ],
   "source": [
    "plt.plot(wineQT.alcohol)"
   ]
  },
  {
   "cell_type": "markdown",
   "metadata": {},
   "source": [
    "6. Change the name of the column “residual sugar” to “sugar” and “citric acid” to “citric_acid”. Provide the code and column headers."
   ]
  },
  {
   "cell_type": "code",
   "execution_count": 37,
   "metadata": {},
   "outputs": [
    {
     "name": "stdout",
     "output_type": "stream",
     "text": [
      "fixed acidity\n",
      "volatile acidity\n",
      "citric_acid\n",
      "sugar\n",
      "chlorides\n",
      "free sulfur dioxide\n",
      "total sulfur dioxide\n",
      "density\n",
      "pH\n",
      "sulphates\n",
      "alcohol\n",
      "quality\n",
      "Id\n"
     ]
    }
   ],
   "source": [
    "wineQT.rename(columns={\"residual sugar\": \"sugar\", \"citric acid\": \"citric_acid\"}, inplace=True)\n",
    "for column in wineQT.columns:\n",
    "    print(column)"
   ]
  },
  {
   "cell_type": "markdown",
   "metadata": {},
   "source": [
    "7. Sort the rows of the dataset based on “quality” and “alcohol” features in an ascending order. Provide the code and top 5 rows of the sorted data."
   ]
  },
  {
   "cell_type": "code",
   "execution_count": 38,
   "metadata": {},
   "outputs": [
    {
     "data": {
      "text/plain": "      fixed acidity  volatile acidity  citric_acid  sugar  chlorides  \\\n368            10.4             0.610         0.49    2.1      0.200   \n324            11.6             0.580         0.66    2.2      0.074   \n1046            7.3             0.980         0.05    2.1      0.061   \n1074            6.7             0.760         0.02    1.8      0.078   \n1055            7.1             0.875         0.05    5.7      0.082   \n\n      free sulfur dioxide  total sulfur dioxide  density    pH  sulphates  \\\n368                   5.0                  16.0  0.99940  3.16       0.63   \n324                  10.0                  47.0  1.00080  3.25       0.57   \n1046                 20.0                  49.0  0.99705  3.31       0.55   \n1074                  6.0                  12.0  0.99600  3.55       0.63   \n1055                  3.0                  14.0  0.99808  3.40       0.52   \n\n      alcohol  quality    Id  \n368      8.40      3.0   517  \n324      9.00      3.0   459  \n1046     9.70      3.0  1469  \n1074     9.95      3.0  1505  \n1055    10.20      3.0  1478  ",
      "text/html": "<div>\n<style scoped>\n    .dataframe tbody tr th:only-of-type {\n        vertical-align: middle;\n    }\n\n    .dataframe tbody tr th {\n        vertical-align: top;\n    }\n\n    .dataframe thead th {\n        text-align: right;\n    }\n</style>\n<table border=\"1\" class=\"dataframe\">\n  <thead>\n    <tr style=\"text-align: right;\">\n      <th></th>\n      <th>fixed acidity</th>\n      <th>volatile acidity</th>\n      <th>citric_acid</th>\n      <th>sugar</th>\n      <th>chlorides</th>\n      <th>free sulfur dioxide</th>\n      <th>total sulfur dioxide</th>\n      <th>density</th>\n      <th>pH</th>\n      <th>sulphates</th>\n      <th>alcohol</th>\n      <th>quality</th>\n      <th>Id</th>\n    </tr>\n  </thead>\n  <tbody>\n    <tr>\n      <th>368</th>\n      <td>10.4</td>\n      <td>0.610</td>\n      <td>0.49</td>\n      <td>2.1</td>\n      <td>0.200</td>\n      <td>5.0</td>\n      <td>16.0</td>\n      <td>0.99940</td>\n      <td>3.16</td>\n      <td>0.63</td>\n      <td>8.40</td>\n      <td>3.0</td>\n      <td>517</td>\n    </tr>\n    <tr>\n      <th>324</th>\n      <td>11.6</td>\n      <td>0.580</td>\n      <td>0.66</td>\n      <td>2.2</td>\n      <td>0.074</td>\n      <td>10.0</td>\n      <td>47.0</td>\n      <td>1.00080</td>\n      <td>3.25</td>\n      <td>0.57</td>\n      <td>9.00</td>\n      <td>3.0</td>\n      <td>459</td>\n    </tr>\n    <tr>\n      <th>1046</th>\n      <td>7.3</td>\n      <td>0.980</td>\n      <td>0.05</td>\n      <td>2.1</td>\n      <td>0.061</td>\n      <td>20.0</td>\n      <td>49.0</td>\n      <td>0.99705</td>\n      <td>3.31</td>\n      <td>0.55</td>\n      <td>9.70</td>\n      <td>3.0</td>\n      <td>1469</td>\n    </tr>\n    <tr>\n      <th>1074</th>\n      <td>6.7</td>\n      <td>0.760</td>\n      <td>0.02</td>\n      <td>1.8</td>\n      <td>0.078</td>\n      <td>6.0</td>\n      <td>12.0</td>\n      <td>0.99600</td>\n      <td>3.55</td>\n      <td>0.63</td>\n      <td>9.95</td>\n      <td>3.0</td>\n      <td>1505</td>\n    </tr>\n    <tr>\n      <th>1055</th>\n      <td>7.1</td>\n      <td>0.875</td>\n      <td>0.05</td>\n      <td>5.7</td>\n      <td>0.082</td>\n      <td>3.0</td>\n      <td>14.0</td>\n      <td>0.99808</td>\n      <td>3.40</td>\n      <td>0.52</td>\n      <td>10.20</td>\n      <td>3.0</td>\n      <td>1478</td>\n    </tr>\n  </tbody>\n</table>\n</div>"
     },
     "execution_count": 38,
     "metadata": {},
     "output_type": "execute_result"
    }
   ],
   "source": [
    "wineQT.sort_values(['quality', 'alcohol'], ascending=True, inplace=True)\n",
    "wineQT.head()"
   ]
  },
  {
   "cell_type": "markdown",
   "metadata": {},
   "source": [
    "8. Plot the histogram of the “total sulfur dioxide” column. Provide the code and describe your observations."
   ]
  },
  {
   "cell_type": "code",
   "execution_count": 39,
   "metadata": {},
   "outputs": [
    {
     "data": {
      "text/plain": "(array([531., 336., 158.,  75.,  36.,   5.,   0.,   0.,   0.,   2.]),\n array([  6. ,  34.3,  62.6,  90.9, 119.2, 147.5, 175.8, 204.1, 232.4,\n        260.7, 289. ]),\n <BarContainer object of 10 artists>)"
     },
     "execution_count": 39,
     "metadata": {},
     "output_type": "execute_result"
    },
    {
     "data": {
      "text/plain": "<Figure size 432x288 with 1 Axes>",
      "image/png": "[encoded data removed]"
     },
     "metadata": {
      "needs_background": "light"
     },
     "output_type": "display_data"
    }
   ],
   "source": [
    "plt.hist(wineQT['total sulfur dioxide'])"
   ]
  },
  {
   "cell_type": "markdown",
   "metadata": {},
   "source": [
    "**The majority of wines have low numbers of total sulfur dioxide ranging mostly from 0 to 100.**"
   ]
  },
  {
   "cell_type": "markdown",
   "metadata": {},
   "source": [
    "9. Scatter plot the “fixed acidity” and “pH” variables, provide the code and discuss your observations from a bivariate analysis perspective (including direction, form, strength, outlier)."
   ]
  },
  {
   "cell_type": "code",
   "execution_count": 40,
   "metadata": {},
   "outputs": [
    {
     "data": {
      "text/plain": "Text(0, 0.5, 'pH')"
     },
     "execution_count": 40,
     "metadata": {},
     "output_type": "execute_result"
    },
    {
     "data": {
      "text/plain": "<Figure size 432x288 with 1 Axes>",
      "image/png": "[encoded data removed]"
     },
     "metadata": {
      "needs_background": "light"
     },
     "output_type": "display_data"
    }
   ],
   "source": [
    "plt.scatter(wineQT['fixed acidity'], wineQT['pH'])\n",
    "plt.xlabel('fixed acidity')\n",
    "plt.ylabel('pH')"
   ]
  },
  {
   "cell_type": "markdown",
   "metadata": {},
   "source": [
    "- Direction: negative (as fixed acidity increases, pH decreases)\n",
    "- Form: linear\n",
    "- Strength: strong\n",
    "- Outlier: there are very few outliers"
   ]
  }
 ],
 "metadata": {
  "kernelspec": {
   "display_name": "Python 3 (ipykernel)",
   "language": "python",
   "name": "python3"
  },
  "language_info": {
   "codemirror_mode": {
    "name": "ipython",
    "version": 3
   },
   "file_extension": ".py",
   "mimetype": "text/x-python",
   "name": "python",
   "nbconvert_exporter": "python",
   "pygments_lexer": "ipython3",
   "version": "3.8.11"
  }
 },
 "nbformat": 4,
 "nbformat_minor": 1
}
